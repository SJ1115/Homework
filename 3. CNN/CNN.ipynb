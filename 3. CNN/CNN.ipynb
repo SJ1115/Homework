{
 "cells": [
  {
   "attachments": {},
   "cell_type": "markdown",
   "metadata": {},
   "source": [
    "### Preprocess and Load"
   ]
  },
  {
   "cell_type": "code",
   "execution_count": 1,
   "metadata": {},
   "outputs": [],
   "source": [
    "import torch\n",
    "import torch.nn as nn\n",
    "import numpy as np\n",
    "import gensim"
   ]
  },
  {
   "cell_type": "code",
   "execution_count": 2,
   "metadata": {},
   "outputs": [
    {
     "name": "stdout",
     "output_type": "stream",
     "text": [
      "Vocab size : 17895\n",
      "train\t: torch.Size([156817, 58])\n",
      "train_label\t: torch.Size([156817])\n",
      "test\t: torch.Size([2210, 58])\n",
      "test_label\t: torch.Size([2210])\n",
      "dev\t: torch.Size([1101, 58])\n",
      "dev_label\t: torch.Size([1101])\n"
     ]
    },
    {
     "data": {
      "text/plain": [
       "torch.Size([17895, 300])"
      ]
     },
     "execution_count": 2,
     "metadata": {},
     "output_type": "execute_result"
    }
   ],
   "source": [
    "from src.preprocess import load_data, build_wordvec\n",
    "\n",
    "data = 'sst1'\n",
    "dataset = load_data(data)\n",
    "\n",
    "for key, value in dataset.items():\n",
    "    if key == 'w2i':\n",
    "        print(f\"Vocab size : {len(value)}\")\n",
    "    else:\n",
    "        print(f\"{key}\\t: {value.size()}\")\n",
    "\n",
    "embed_mat = build_wordvec(dataset['w2i'], var=.01)\n",
    "embed_mat.size()\n"
   ]
  },
  {
   "attachments": {},
   "cell_type": "markdown",
   "metadata": {},
   "source": [
    "### Run One Model"
   ]
  },
  {
   "cell_type": "code",
   "execution_count": 19,
   "metadata": {},
   "outputs": [
    {
     "name": "stderr",
     "output_type": "stream",
     "text": [
      "loss :  0.002: 100%|██████████| 5400/5400 [00:23<00:00, 231.07it/s]\n"
     ]
    },
    {
     "name": "stdout",
     "output_type": "stream",
     "text": [
      "Finished Training : 0:00:23 spent.\n",
      "Accuracy of the Model on the 1000 test set: 91.90 %\n"
     ]
    },
    {
     "data": {
      "image/png": "[encoded data removed]",
      "text/plain": [
       "<Figure size 432x288 with 1 Axes>"
      ]
     },
     "metadata": {
      "needs_background": "light"
     },
     "output_type": "display_data"
    }
   ],
   "source": [
    "from src.trainer import Trainer\n",
    "from src.model import CNN_TC\n",
    "\n",
    "device = 'cuda:0'\n",
    "\n",
    "model = CNN_TC('static', dataset, embed_mat, [3,4,5], 100, \\\n",
    "    dropout_ratio= .5, init=['he', None], bias=True, device=device).to(device)\n",
    "criterion = nn.CrossEntropyLoss(weight=1 / torch.bincount(dataset['train_label']).to(torch.float).to(device))\n",
    "\n",
    "optimizer = torch.optim.Adadelta(model.parameters(), lr=1, rho=.95, weight_decay=1e-8)\n",
    "#optimizer = torch.optim.SGD(model.parameters(), lr=2e-6, weight_decay=.7)\n",
    "\n",
    "trainer = Trainer(model, criterion, optimizer, dataset, l2=9, device = device)\n",
    "\n",
    "## score= when l2=3\n",
    "trainer.train(30, show_batches=10)\n",
    "trainer.test()\n",
    "trainer.plot()"
   ]
  },
  {
   "attachments": {},
   "cell_type": "markdown",
   "metadata": {},
   "source": [
    "### Run All Model(of a Dataset)"
   ]
  },
  {
   "cell_type": "code",
   "execution_count": 24,
   "metadata": {},
   "outputs": [
    {
     "name": "stdout",
     "output_type": "stream",
     "text": [
      "Tuning CNN in \"SST1\" set.\n"
     ]
    },
    {
     "name": "stderr",
     "output_type": "stream",
     "text": [
      "Acc : 40.63, Max : 45.11: 100%|██████████| 30/30 [08:08<00:00, 16.27s/it]\n"
     ]
    },
    {
     "name": "stdout",
     "output_type": "stream",
     "text": [
      "Best Score for RAND was 45.11 at 2^th epoch\n"
     ]
    },
    {
     "name": "stderr",
     "output_type": "stream",
     "text": [
      "Acc : 41.49, Max : 46.29: 100%|██████████| 30/30 [04:00<00:00,  8.03s/it]\n"
     ]
    },
    {
     "name": "stdout",
     "output_type": "stream",
     "text": [
      "Best Score for STATIC was 46.29 at 7^th epoch\n"
     ]
    },
    {
     "name": "stderr",
     "output_type": "stream",
     "text": [
      "Acc : 40.68, Max : 48.87: 100%|██████████| 30/30 [08:07<00:00, 16.24s/it]\n"
     ]
    },
    {
     "name": "stdout",
     "output_type": "stream",
     "text": [
      "Best Score for NONSTATIC was 48.87 at 2^th epoch\n"
     ]
    },
    {
     "name": "stderr",
     "output_type": "stream",
     "text": [
      "Acc : 43.44, Max : 48.19: 100%|██████████| 30/30 [11:11<00:00, 22.37s/it]"
     ]
    },
    {
     "name": "stdout",
     "output_type": "stream",
     "text": [
      "Best Score for MULTICHANNEL was 48.19 at 0^th epoch\n"
     ]
    },
    {
     "name": "stderr",
     "output_type": "stream",
     "text": [
      "\n"
     ]
    }
   ],
   "source": [
    "from tqdm import tqdm\n",
    "from src.model import CNN_TC\n",
    "from src.trainer import Trainer\n",
    "import torch.nn as nn\n",
    "import torch\n",
    "import numpy as np\n",
    "\n",
    "device = 'cuda:0'\n",
    "option = ['rand', 'static', 'nonstatic', 'multichannel'] # 'rand',\n",
    "print(f\"Tuning CNN in \\\"{data.upper()}\\\" set.\")\n",
    "for opt in option:\n",
    "    \n",
    "    model = CNN_TC(opt, dataset, embed_mat, [3,4,5], 100, \\\n",
    "    dropout_ratio= .5, init=[None, 'he'], bias=True, device=device).to(device)\n",
    "\n",
    "    criterion = nn.CrossEntropyLoss()  # weight=len(data['train_label']) / torch.bincount(data['train_label']).to(torch.float)\n",
    "\n",
    "    optimizer = torch.optim.Adadelta(model.parameters(), lr=1, rho=.95, weight_decay=0)\n",
    "    trainer = Trainer(model, criterion, optimizer, dataset, l2=9, device=device)\n",
    "\n",
    "    lst = []\n",
    "    timeiter = tqdm(range(30), position=0, leave=True)\n",
    "    m = 0\n",
    "    for i in timeiter:\n",
    "        trainer.train(1, show_batches=50, verbose=False)\n",
    "        l = trainer.test(verbose=False)\n",
    "        lst.append(l)\n",
    "        m = max(m, l)\n",
    "        timeiter.set_description(f\"Acc : {100*l:.2f}, Max : {100*m:.2f}\")\n",
    "    #trainer.plot()\n",
    "    Len = np.argmax(lst)\n",
    "    print(f\"Best Score for {opt.upper()} was {100*m:.2f} at {Len}^th epoch\")\n"
   ]
  },
  {
   "attachments": {},
   "cell_type": "markdown",
   "metadata": {},
   "source": [
    "### TEST Result\n",
    "Below are the entire score for all model, for all datasets.\n",
    "I did not used Cross Validation check, so the score may not be stable.\n",
    "\n",
    "|       Model|SST1 |SST2 | CR  | MR  |TREC|MPQA |SUBJ|\n",
    "|---         |---  |---  |---  |---  |--- |---  | ---|\n",
    "|Random      |45.11|84.84|79.89|75.26|91.6|85.49|90.7|\n",
    "|Static      |46.29|86.27|85.98|79.94|93.4|89.92|92.9|\n",
    "|Non-Static  |48.87|88.25|85.87|81.44|94.2|89.92|93.5|\n",
    "|MultiChannel|48.19|87.92|87.30|81.26|93.6|89.54|93.3|"
   ]
  }
 ],
 "metadata": {
  "kernelspec": {
   "display_name": "freshman01",
   "language": "python",
   "name": "freshman01"
  },
  "language_info": {
   "codemirror_mode": {
    "name": "ipython",
    "version": 3
   },
   "file_extension": ".py",
   "mimetype": "text/x-python",
   "name": "python",
   "nbconvert_exporter": "python",
   "pygments_lexer": "ipython3",
   "version": "3.10.4"
  },
  "orig_nbformat": 4,
  "vscode": {
   "interpreter": {
    "hash": "7630cfb9cc60cb9709f67712e275111c5e1bba9b718b36e51626f2087c2ff988"
   }
  }
 },
 "nbformat": 4,
 "nbformat_minor": 2
}
